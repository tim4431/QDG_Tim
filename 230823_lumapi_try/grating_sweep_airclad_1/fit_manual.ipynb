{
 "cells": [
  {
   "cell_type": "code",
   "execution_count": 1,
   "metadata": {},
   "outputs": [],
   "source": [
    "import numpy as np\n",
    "import matplotlib.pyplot as plt\n",
    "from scipy.optimize import curve_fit\n",
    "import ipywidgets as widgets\n",
    "from IPython.display import display\n",
    "import matplotlib.pyplot as plt\n",
    "import numpy as np\n",
    "import os\n",
    "import sys\n",
    "\n",
    "sys.path.append(\"../..\")\n",
    "from lib.gaussian.gaussian_fit_1d import arb_fit_1d"
   ]
  },
  {
   "cell_type": "code",
   "execution_count": 2,
   "metadata": {},
   "outputs": [
    {
     "ename": "FileNotFoundError",
     "evalue": "83d2_800.0_bw=20.0_transmission.txt not found.",
     "output_type": "error",
     "traceback": [
      "\u001b[0;31m---------------------------------------------------------------------------\u001b[0m",
      "\u001b[0;31mFileNotFoundError\u001b[0m                         Traceback (most recent call last)",
      "\u001b[1;32m/home/tim/Code/QDG_Tim/230823_lumapi_try/grating_sweep_airclad_1/fit_manual.ipynb 单元格 2\u001b[0m line \u001b[0;36m5\n\u001b[1;32m     <a href='vscode-notebook-cell://wsl%2Bubuntu/home/tim/Code/QDG_Tim/230823_lumapi_try/grating_sweep_airclad_1/fit_manual.ipynb#W1sdnNjb2RlLXJlbW90ZQ%3D%3D?line=52'>53</a>\u001b[0m \u001b[39mfor\u001b[39;00m uuid, lambda_0 \u001b[39min\u001b[39;00m \u001b[39mzip\u001b[39m(uuidList, lambdaList):\n\u001b[1;32m     <a href='vscode-notebook-cell://wsl%2Bubuntu/home/tim/Code/QDG_Tim/230823_lumapi_try/grating_sweep_airclad_1/fit_manual.ipynb#W1sdnNjb2RlLXJlbW90ZQ%3D%3D?line=53'>54</a>\u001b[0m     dataName \u001b[39m=\u001b[39m \u001b[39m\"\u001b[39m\u001b[39m{:s}\u001b[39;00m\u001b[39m_\u001b[39m\u001b[39m{:.1f}\u001b[39;00m\u001b[39m_bw=20.0_transmission.txt\u001b[39m\u001b[39m\"\u001b[39m\u001b[39m.\u001b[39mformat(uuid, lambda_0)\n\u001b[0;32m---> <a href='vscode-notebook-cell://wsl%2Bubuntu/home/tim/Code/QDG_Tim/230823_lumapi_try/grating_sweep_airclad_1/fit_manual.ipynb#W1sdnNjb2RlLXJlbW90ZQ%3D%3D?line=54'>55</a>\u001b[0m     data \u001b[39m=\u001b[39m np\u001b[39m.\u001b[39;49mloadtxt(dataName)\n\u001b[1;32m     <a href='vscode-notebook-cell://wsl%2Bubuntu/home/tim/Code/QDG_Tim/230823_lumapi_try/grating_sweep_airclad_1/fit_manual.ipynb#W1sdnNjb2RlLXJlbW90ZQ%3D%3D?line=55'>56</a>\u001b[0m     amp, x0, _, _ \u001b[39m=\u001b[39m arb_fit_1d(\u001b[39mFalse\u001b[39;00m, data[:, \u001b[39m0\u001b[39m] \u001b[39m*\u001b[39m \u001b[39m1e3\u001b[39m, data[:, \u001b[39m1\u001b[39m], \u001b[39m\"\u001b[39m\u001b[39m\"\u001b[39m, label\u001b[39m=\u001b[39m\u001b[39mFalse\u001b[39;00m)\n\u001b[1;32m     <a href='vscode-notebook-cell://wsl%2Bubuntu/home/tim/Code/QDG_Tim/230823_lumapi_try/grating_sweep_airclad_1/fit_manual.ipynb#W1sdnNjb2RlLXJlbW90ZQ%3D%3D?line=56'>57</a>\u001b[0m     ampList\u001b[39m.\u001b[39mappend(amp)\n",
      "File \u001b[0;32m~/miniconda3/envs/quantum/lib/python3.10/site-packages/numpy/lib/npyio.py:1338\u001b[0m, in \u001b[0;36mloadtxt\u001b[0;34m(fname, dtype, comments, delimiter, converters, skiprows, usecols, unpack, ndmin, encoding, max_rows, quotechar, like)\u001b[0m\n\u001b[1;32m   1335\u001b[0m \u001b[39mif\u001b[39;00m \u001b[39misinstance\u001b[39m(delimiter, \u001b[39mbytes\u001b[39m):\n\u001b[1;32m   1336\u001b[0m     delimiter \u001b[39m=\u001b[39m delimiter\u001b[39m.\u001b[39mdecode(\u001b[39m'\u001b[39m\u001b[39mlatin1\u001b[39m\u001b[39m'\u001b[39m)\n\u001b[0;32m-> 1338\u001b[0m arr \u001b[39m=\u001b[39m _read(fname, dtype\u001b[39m=\u001b[39;49mdtype, comment\u001b[39m=\u001b[39;49mcomment, delimiter\u001b[39m=\u001b[39;49mdelimiter,\n\u001b[1;32m   1339\u001b[0m             converters\u001b[39m=\u001b[39;49mconverters, skiplines\u001b[39m=\u001b[39;49mskiprows, usecols\u001b[39m=\u001b[39;49musecols,\n\u001b[1;32m   1340\u001b[0m             unpack\u001b[39m=\u001b[39;49munpack, ndmin\u001b[39m=\u001b[39;49mndmin, encoding\u001b[39m=\u001b[39;49mencoding,\n\u001b[1;32m   1341\u001b[0m             max_rows\u001b[39m=\u001b[39;49mmax_rows, quote\u001b[39m=\u001b[39;49mquotechar)\n\u001b[1;32m   1343\u001b[0m \u001b[39mreturn\u001b[39;00m arr\n",
      "File \u001b[0;32m~/miniconda3/envs/quantum/lib/python3.10/site-packages/numpy/lib/npyio.py:975\u001b[0m, in \u001b[0;36m_read\u001b[0;34m(fname, delimiter, comment, quote, imaginary_unit, usecols, skiplines, max_rows, converters, ndmin, unpack, dtype, encoding)\u001b[0m\n\u001b[1;32m    973\u001b[0m     fname \u001b[39m=\u001b[39m os\u001b[39m.\u001b[39mfspath(fname)\n\u001b[1;32m    974\u001b[0m \u001b[39mif\u001b[39;00m \u001b[39misinstance\u001b[39m(fname, \u001b[39mstr\u001b[39m):\n\u001b[0;32m--> 975\u001b[0m     fh \u001b[39m=\u001b[39m np\u001b[39m.\u001b[39;49mlib\u001b[39m.\u001b[39;49m_datasource\u001b[39m.\u001b[39;49mopen(fname, \u001b[39m'\u001b[39;49m\u001b[39mrt\u001b[39;49m\u001b[39m'\u001b[39;49m, encoding\u001b[39m=\u001b[39;49mencoding)\n\u001b[1;32m    976\u001b[0m     \u001b[39mif\u001b[39;00m encoding \u001b[39mis\u001b[39;00m \u001b[39mNone\u001b[39;00m:\n\u001b[1;32m    977\u001b[0m         encoding \u001b[39m=\u001b[39m \u001b[39mgetattr\u001b[39m(fh, \u001b[39m'\u001b[39m\u001b[39mencoding\u001b[39m\u001b[39m'\u001b[39m, \u001b[39m'\u001b[39m\u001b[39mlatin1\u001b[39m\u001b[39m'\u001b[39m)\n",
      "File \u001b[0;32m~/miniconda3/envs/quantum/lib/python3.10/site-packages/numpy/lib/_datasource.py:193\u001b[0m, in \u001b[0;36mopen\u001b[0;34m(path, mode, destpath, encoding, newline)\u001b[0m\n\u001b[1;32m    156\u001b[0m \u001b[39m\u001b[39m\u001b[39m\"\"\"\u001b[39;00m\n\u001b[1;32m    157\u001b[0m \u001b[39mOpen `path` with `mode` and return the file object.\u001b[39;00m\n\u001b[1;32m    158\u001b[0m \n\u001b[0;32m   (...)\u001b[0m\n\u001b[1;32m    189\u001b[0m \n\u001b[1;32m    190\u001b[0m \u001b[39m\"\"\"\u001b[39;00m\n\u001b[1;32m    192\u001b[0m ds \u001b[39m=\u001b[39m DataSource(destpath)\n\u001b[0;32m--> 193\u001b[0m \u001b[39mreturn\u001b[39;00m ds\u001b[39m.\u001b[39;49mopen(path, mode, encoding\u001b[39m=\u001b[39;49mencoding, newline\u001b[39m=\u001b[39;49mnewline)\n",
      "File \u001b[0;32m~/miniconda3/envs/quantum/lib/python3.10/site-packages/numpy/lib/_datasource.py:533\u001b[0m, in \u001b[0;36mDataSource.open\u001b[0;34m(self, path, mode, encoding, newline)\u001b[0m\n\u001b[1;32m    530\u001b[0m     \u001b[39mreturn\u001b[39;00m _file_openers[ext](found, mode\u001b[39m=\u001b[39mmode,\n\u001b[1;32m    531\u001b[0m                               encoding\u001b[39m=\u001b[39mencoding, newline\u001b[39m=\u001b[39mnewline)\n\u001b[1;32m    532\u001b[0m \u001b[39melse\u001b[39;00m:\n\u001b[0;32m--> 533\u001b[0m     \u001b[39mraise\u001b[39;00m \u001b[39mFileNotFoundError\u001b[39;00m(\u001b[39mf\u001b[39m\u001b[39m\"\u001b[39m\u001b[39m{\u001b[39;00mpath\u001b[39m}\u001b[39;00m\u001b[39m not found.\u001b[39m\u001b[39m\"\u001b[39m)\n",
      "\u001b[0;31mFileNotFoundError\u001b[0m: 83d2_800.0_bw=20.0_transmission.txt not found."
     ]
    }
   ],
   "source": [
    "uuidList = [\n",
    "        \"82d5\",\n",
    "        \"0a7a\",\n",
    "        \"8e24\",\n",
    "        \"d491\",\n",
    "        \"61a5\",\n",
    "        \"f38f\",\n",
    "        \"d6b1\",\n",
    "        \"e00e\",\n",
    "        \"cf31\",\n",
    "        \"a67d\",\n",
    "        \"f855\",\n",
    "        \"98f0\",\n",
    "        \"45ec\",\n",
    "        \"686a\",\n",
    "        \"92da\",\n",
    "        \"cde0\",\n",
    "        \"c62e\",\n",
    "        \"c2bc\",\n",
    "        \"4901\",\n",
    "        \"8572\",\n",
    "        \"3442\",\n",
    "        \"de6b\",\n",
    "        \"8977\",\n",
    "        \"c158\",\n",
    "        \"71de\",\n",
    "        \"8cfd\",\n",
    "        \"7081\",\n",
    "        \"6184\",\n",
    "        \"b2a6\",\n",
    "        \"bae3\",\n",
    "        \"3140\",\n",
    "        \"c4e5\",\n",
    "        \"7e80\",\n",
    "        \"1574\",\n",
    "        \"f951\",\n",
    "        \"224e\",\n",
    "        \"231c\",\n",
    "        \"fdb9\",\n",
    "        \"3d59\",\n",
    "        \"6469\",\n",
    "        \"ea47\",\n",
    "        \"1074\",\n",
    "        \"e435\",\n",
    "        \"1920\",\n",
    "        \"f1f8\",\n",
    "    ]\n",
    "lambdaList = range(820, 1720, 20)\n",
    "ampList = []\n",
    "x0List = []\n",
    "dataList = []\n",
    "for uuid, lambda_0 in zip(uuidList, lambdaList):\n",
    "    dataName = \"{:s}_{:.1f}_bw=20.0_transmission.txt\".format(uuid, lambda_0)\n",
    "    data = np.loadtxt(dataName)\n",
    "    amp, x0, _, _ = arb_fit_1d(False, data[:, 0] * 1e3, data[:, 1], \"\", label=False)\n",
    "    ampList.append(amp)\n",
    "    x0List.append(x0)\n",
    "    dataList.append(data)\n",
    "\n",
    "# fit amp-x0 using amp = A*sin(ax+b)+B\n",
    "# def f(x, A, g, d, b):\n",
    "#     return A * (1 + g * np.cos(4 * np.pi * d / x + b))\n",
    "def f(x, A, g, d, b, g1, d1, b1):\n",
    "    return (\n",
    "        A\n",
    "        * (1 + g * np.cos(4 * np.pi * d / x + b))\n",
    "        * (1 + g1 * np.cos(4 * np.pi * d1 / x + b1))\n",
    "    )\n",
    "\n",
    "def plot_data(A, g, d, b, g1, d1, b1):\n",
    "    for data in dataList:\n",
    "        amp, x0, _, _ = arb_fit_1d(\n",
    "            None, data[:, 0] * 1e3, data[:, 1], \"\", label=False\n",
    "        )\n",
    "    # popt = [0.5, 0.49, 4000, -3, 0.5, 230, 1]\n",
    "    popt = [A, g, d, b, g1, d1, b1]\n",
    "    x = np.linspace(np.min(lambdaList), np.max(lambdaList), 100)\n",
    "    plt.plot(\n",
    "        x,\n",
    "        f(x, *popt),\n",
    "        label=r\"$fit={:.2f}*(1+{:.2f}*cos(4\\pi*{:.0f}/x{:+.2f}))* (1+{:.0f}*cos(4\\pi*{:.2f}/x{:+.2f}))$\".format(\n",
    "            *popt\n",
    "        ),\n",
    "    )\n"
   ]
  },
  {
   "cell_type": "code",
   "execution_count": 7,
   "metadata": {},
   "outputs": [
    {
     "data": {
      "application/vnd.jupyter.widget-view+json": {
       "model_id": "2b3921d004d34cdcbfa1da24049eacc7",
       "version_major": 2,
       "version_minor": 0
      },
      "text/plain": [
       "interactive(children=(FloatSlider(value=0.5, description='A', max=1.0, step=0.01), FloatSlider(value=0.5, desc…"
      ]
     },
     "execution_count": 7,
     "metadata": {},
     "output_type": "execute_result"
    }
   ],
   "source": [
    "A_widget = widgets.FloatSlider(\n",
    "    value=0.5, min=0, max=1, step=0.01, description=\"A\"\n",
    ")\n",
    "g_widget = widgets.FloatSlider(\n",
    "    value=0.5, min=0, max=1, step=0.01, description=\"g\"\n",
    ")\n",
    "d_widget = widgets.FloatSlider(\n",
    "    value=4000, min=3000, max=6000, step=1, description=\"d\"\n",
    ")\n",
    "b_widget = widgets.FloatSlider(\n",
    "    value=-3, min=-6, max=6, step=0.01, description=\"b\"\n",
    ")\n",
    "g1_widget = widgets.FloatSlider(\n",
    "    value=0.5, min=0, max=1, step=0.01, description=\"g1\"\n",
    ")\n",
    "d1_widget = widgets.FloatSlider(\n",
    "    value=230, min=0, max=400, step=1, description=\"d1\"\n",
    ")\n",
    "b1_widget = widgets.FloatSlider(\n",
    "    value=1, min=-6, max=6, step=0.01, description=\"b1\"\n",
    ")\n",
    "widgets.interactive(\n",
    "    plot_data,\n",
    "    A=A_widget,\n",
    "    g=g_widget,\n",
    "    d=d_widget,\n",
    "    b=b_widget,\n",
    "    g1=g1_widget,\n",
    "    d1=d1_widget,\n",
    "    b1=b1_widget,\n",
    ")"
   ]
  },
  {
   "cell_type": "code",
   "execution_count": null,
   "metadata": {},
   "outputs": [],
   "source": []
  }
 ],
 "metadata": {
  "kernelspec": {
   "display_name": "quantum",
   "language": "python",
   "name": "python3"
  },
  "language_info": {
   "codemirror_mode": {
    "name": "ipython",
    "version": 3
   },
   "file_extension": ".py",
   "mimetype": "text/x-python",
   "name": "python",
   "nbconvert_exporter": "python",
   "pygments_lexer": "ipython3",
   "version": "3.10.11"
  },
  "orig_nbformat": 4
 },
 "nbformat": 4,
 "nbformat_minor": 2
}
