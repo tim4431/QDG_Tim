{
 "cells": [
  {
   "cell_type": "code",
   "execution_count": 1,
   "metadata": {},
   "outputs": [
    {
     "data": {
      "application/vnd.jupyter.widget-view+json": {
       "model_id": "1f7a0591e4ac4bcbb93f078981b28ebc",
       "version_major": 2,
       "version_minor": 0
      },
      "text/plain": [
       "interactive(children=(FloatSlider(value=1.0, description='Slope:', max=10.0, min=-10.0), FloatSlider(value=0.0…"
      ]
     },
     "execution_count": 1,
     "metadata": {},
     "output_type": "execute_result"
    }
   ],
   "source": [
    "import numpy as np\n",
    "import matplotlib.pyplot as plt\n",
    "from scipy.optimize import curve_fit\n",
    "import ipywidgets as widgets\n",
    "from IPython.display import display\n",
    "\n",
    "# Generate some example data\n",
    "np.random.seed(0)\n",
    "x = np.linspace(0, 10, 100)\n",
    "y = 2 * x + 1 + np.random.normal(0, 1, 100)\n",
    "\n",
    "\n",
    "# Define the linear function to fit\n",
    "def linear_function(x, slope, intercept):\n",
    "    return slope * x + intercept\n",
    "\n",
    "\n",
    "# Define the function to fit and its initial parameters\n",
    "def fit_and_plot(slope, intercept):\n",
    "    y_fit = linear_function(x, slope, intercept)\n",
    "    plt.scatter(x, y, label=\"Data\")\n",
    "    plt.plot(x, y_fit, label=\"Fit\", color=\"red\")\n",
    "    plt.xlabel(\"X\")\n",
    "    plt.ylabel(\"Y\")\n",
    "    plt.legend()\n",
    "    plt.title(\"Manual Linear Regression Fit\")\n",
    "    plt.show()\n",
    "\n",
    "\n",
    "# Create interactive widgets for slope and intercept\n",
    "slope_widget = widgets.FloatSlider(\n",
    "    value=1.0, min=-10.0, max=10.0, step=0.1, description=\"Slope:\"\n",
    ")\n",
    "intercept_widget = widgets.FloatSlider(\n",
    "    value=0.0, min=-10.0, max=10.0, step=0.1, description=\"Intercept:\"\n",
    ")\n",
    "\n",
    "# Create an interactive plot\n",
    "widgets.interactive(fit_and_plot, slope=slope_widget, intercept=intercept_widget)\n"
   ]
  },
  {
   "cell_type": "code",
   "execution_count": 3,
   "metadata": {},
   "outputs": [],
   "source": [
    "uuidList = [\n",
    "    # \"4c42\",\n",
    "    \"0eb0\",\n",
    "    \"570e\",\n",
    "    \"e199\",\n",
    "    \"793c\",\n",
    "    \"e86b\",\n",
    "    \"15a5\",\n",
    "    \"d1fd\",\n",
    "    \"6ade\",\n",
    "    \"674e\",\n",
    "    \"a72b\",\n",
    "    \"aa7c\",\n",
    "    \"b60c\",\n",
    "    \"338d\",\n",
    "]\n",
    "lambdaList = [\n",
    "    # 1080,\n",
    "    1120,\n",
    "    1160,\n",
    "    1200,\n",
    "    1240,\n",
    "    1280,\n",
    "    1320,\n",
    "    1360,\n",
    "    1400,\n",
    "    1440,\n",
    "    1480,\n",
    "    1520,\n",
    "    1560,\n",
    "    1600,\n",
    "]"
   ]
  },
  {
   "cell_type": "code",
   "execution_count": 6,
   "metadata": {},
   "outputs": [],
   "source": [
    "import matplotlib.pyplot as plt\n",
    "import numpy as np\n",
    "import os\n",
    "import sys\n",
    "sys.path.append(\"../..\")\n",
    "from lib.gaussian.gaussian_fit_1d import arb_fit_1d\n",
    "ampList = []\n",
    "x0List = []\n",
    "dataList = []\n",
    "for uuid, lambda_0 in zip(uuidList, lambdaList):\n",
    "    dataName = \"{:s}_{:.1f}_bw=20.0_transmission.txt\".format(uuid, lambda_0)\n",
    "    data = np.loadtxt(dataName)\n",
    "    amp, x0, _, _ = arb_fit_1d(False, data[:, 0] * 1e3, data[:, 1], \"\", label=False)\n",
    "    ampList.append(amp)\n",
    "    x0List.append(x0)\n",
    "    dataList.append(data)\n",
    "\n",
    "# fit amp-x0 using amp = A*sin(ax+b)+B\n",
    "# def f(x, A, g, d, b):\n",
    "#     return A * (1 + g * np.cos(4 * np.pi * d / x + b))\n",
    "def f(x, A, g, d, b, g1, d1, b1):\n",
    "    return (\n",
    "        A\n",
    "        * (1 + g * np.cos(4 * np.pi * d / x + b))\n",
    "        * (1 + g1 * np.cos(4 * np.pi * d1 / x + b1))\n",
    "    )"
   ]
  },
  {
   "cell_type": "code",
   "execution_count": 7,
   "metadata": {},
   "outputs": [],
   "source": [
    "def plot_data(A, g, d, b, g1, d1, b1):\n",
    "    for data in dataList:\n",
    "        amp, x0, _, _ = arb_fit_1d(\n",
    "            None, data[:, 0] * 1e3, data[:, 1], \"\", label=False\n",
    "        )\n",
    "    # popt = [0.5, 0.49, 4000, -3, 0.5, 230, 1]\n",
    "    popt = [A, g, d, b, g1, d1, b1]\n",
    "    x = np.linspace(np.min(lambdaList), np.max(lambdaList), 100)\n",
    "    plt.plot(\n",
    "        x,\n",
    "        f(x, *popt),\n",
    "        label=r\"$fit={:.2f}*(1+{:.2f}*cos(4\\pi*{:.0f}/x{:+.2f}))* (1+{:.0f}*cos(4\\pi*{:.2f}/x{:+.2f}))$\".format(\n",
    "            *popt\n",
    "        ),\n",
    "    )"
   ]
  },
  {
   "cell_type": "code",
   "execution_count": 8,
   "metadata": {},
   "outputs": [
    {
     "data": {
      "application/vnd.jupyter.widget-view+json": {
       "model_id": "6c97d2c849384bf7893bfd9208414d15",
       "version_major": 2,
       "version_minor": 0
      },
      "text/plain": [
       "interactive(children=(FloatSlider(value=0.5, description='A', max=1.0, step=0.01), FloatSlider(value=0.5, desc…"
      ]
     },
     "execution_count": 8,
     "metadata": {},
     "output_type": "execute_result"
    }
   ],
   "source": [
    "A_widget = widgets.FloatSlider(\n",
    "    value=0.5, min=0, max=1, step=0.01, description=\"A\"\n",
    ")\n",
    "g_widget = widgets.FloatSlider(\n",
    "    value=0.5, min=0, max=1, step=0.01, description=\"g\"\n",
    ")\n",
    "d_widget = widgets.FloatSlider(\n",
    "    value=4000, min=3000, max=6000, step=1, description=\"d\"\n",
    ")\n",
    "b_widget = widgets.FloatSlider(\n",
    "    value=-3, min=-6, max=6, step=0.01, description=\"b\"\n",
    ")\n",
    "g1_widget = widgets.FloatSlider(\n",
    "    value=0.5, min=0, max=1, step=0.01, description=\"g1\"\n",
    ")\n",
    "d1_widget = widgets.FloatSlider(\n",
    "    value=230, min=0, max=400, step=1, description=\"d1\"\n",
    ")\n",
    "b1_widget = widgets.FloatSlider(\n",
    "    value=1, min=-6, max=6, step=0.01, description=\"b1\"\n",
    ")\n",
    "widgets.interactive(\n",
    "    plot_data,\n",
    "    A=A_widget,\n",
    "    g=g_widget,\n",
    "    d=d_widget,\n",
    "    b=b_widget,\n",
    "    g1=g1_widget,\n",
    "    d1=d1_widget,\n",
    "    b1=b1_widget,\n",
    ")"
   ]
  },
  {
   "cell_type": "code",
   "execution_count": null,
   "metadata": {},
   "outputs": [],
   "source": []
  }
 ],
 "metadata": {
  "kernelspec": {
   "display_name": "quantum",
   "language": "python",
   "name": "python3"
  },
  "language_info": {
   "codemirror_mode": {
    "name": "ipython",
    "version": 3
   },
   "file_extension": ".py",
   "mimetype": "text/x-python",
   "name": "python",
   "nbconvert_exporter": "python",
   "pygments_lexer": "ipython3",
   "version": "3.10.11"
  },
  "orig_nbformat": 4
 },
 "nbformat": 4,
 "nbformat_minor": 2
}
